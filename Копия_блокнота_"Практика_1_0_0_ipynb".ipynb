{
  "nbformat": 4,
  "nbformat_minor": 0,
  "metadata": {
    "colab": {
      "provenance": [],
      "include_colab_link": true
    },
    "kernelspec": {
      "name": "python3",
      "display_name": "Python 3"
    },
    "language_info": {
      "name": "python"
    }
  },
  "cells": [
    {
      "cell_type": "markdown",
      "metadata": {
        "id": "view-in-github",
        "colab_type": "text"
      },
      "source": [
        "<a href=\"https://colab.research.google.com/github/tpush/-/blob/main/%D0%9A%D0%BE%D0%BF%D0%B8%D1%8F_%D0%B1%D0%BB%D0%BE%D0%BA%D0%BD%D0%BE%D1%82%D0%B0_%22%D0%9F%D1%80%D0%B0%D0%BA%D1%82%D0%B8%D0%BA%D0%B0_1_0_0_ipynb%22.ipynb\" target=\"_parent\"><img src=\"https://colab.research.google.com/assets/colab-badge.svg\" alt=\"Open In Colab\"/></a>"
      ]
    },
    {
      "cell_type": "markdown",
      "source": [
        "ФИО: Пушмин Тимофей Анатольевич\n",
        "\n"
      ],
      "metadata": {
        "id": "fLDS5f_mCnPa"
      }
    },
    {
      "cell_type": "markdown",
      "source": [
        "# Задание (совместное с преподавателем)\n",
        "\n",
        "\n"
      ],
      "metadata": {
        "id": "-CSHUbWzCqeM"
      }
    },
    {
      "cell_type": "markdown",
      "source": [
        "Напишите систему для учёта отпусков с возможностью узнавать, сколько дней отпуска осталось у того или иного сотрудника.\n",
        "Для этого создайте класс Employee со следующими методами:\n",
        "\n",
        "- Метод consume_vacation должен отвечать за списание дней отпуска.\n",
        "\n",
        "Единственный параметр этого метода (кроме self) — количество потраченных отпускных дней (целое число).\n",
        "\n",
        "При вызове метода consume_vacation соответствующее количество дней должно вычитаться из общего числа доступных отпускных дней сотрудника.\n",
        "\n",
        "Чтобы определить число доступных отпускных дней конкретного сотрудника, в классе опишите атрибут экземпляра remaining_vacation_days, который по умолчанию будет равен значению атрибута класса vacation_days, и используйте этот атрибут в работе метода.\n",
        "\n",
        "- Метод get_vacation_details должен возвращать остаток отпускных дней сотрудника в формате: ```Остаток отпускных дней: <число>.```\n",
        "\n",
        "\n",
        "Чтобы проверить работу программы:\n",
        "1. Создайте экземпляр класса Employee.\n",
        "2. Вызовите метод consume_vacation, указав подходящее значение аргумента, например 7.\n",
        "3. Вызовите метод get_vacation_details."
      ],
      "metadata": {
        "id": "a_flBjZOCwYz"
      }
    },
    {
      "cell_type": "code",
      "source": [
        "class Employee:\n",
        "    vacation_days = 28\n",
        "\n",
        "    def __init__(self, first_name, second_name, gender): # конструктор\n",
        "        self.first_name = first_name\n",
        "        self.second_name = second_name\n",
        "        self.gender = gender\n",
        "        self.remaining_vacation_days = self.vacation_days\n",
        "\n",
        "\n",
        "    def consume_vacation(self, days): # метод для вычитания дней\n",
        "        self.remaining_vacation_days -= days\n",
        "\n",
        "\n",
        "    def get_vacation_details(self):\n",
        "        return f'Остаток отпускных дней: {self.remaining_vacation_days}.'\n",
        "\n",
        "\n",
        "employee = Employee('Мистер', 'Крутой', 'Мужчина')\n",
        "employee.consume_vacation(7)\n",
        "print(employee.remaining_vacation_days)\n",
        "print(employee.get_vacation_details())"
      ],
      "metadata": {
        "id": "G4bUraN4CwBI",
        "colab": {
          "base_uri": "https://localhost:8080/"
        },
        "outputId": "a68ffefc-3f0c-43d5-e9bc-a80f13ff3732"
      },
      "execution_count": null,
      "outputs": [
        {
          "output_type": "stream",
          "name": "stdout",
          "text": [
            "21\n",
            "Остаток отпускных дней: 21.\n"
          ]
        }
      ]
    },
    {
      "cell_type": "markdown",
      "source": [
        "# Задание 1"
      ],
      "metadata": {
        "id": "8XGka5GtEBK1"
      }
    },
    {
      "cell_type": "markdown",
      "source": [
        "Задание:\n",
        "\n",
        "Создайте класс с именем Rectangle который имеет:\n",
        "- Атрибуты ширины и высоты.\n",
        "- Метод расчета площади.\n",
        "- Метод расчета периметра.\n",
        "- Метод отображения размеров прямоугольника.\n",
        "\n",
        "Создайте экземпляр класса Rectangle и продемонстрируйте его функциональность."
      ],
      "metadata": {
        "id": "jQ4qqd8nEZBY"
      }
    },
    {
      "cell_type": "code",
      "source": [
        "class Rectangle:\n",
        "\n",
        "    def __init__(self, width, height):\n",
        "        self.width = width\n",
        "        self.height = height\n",
        "\n",
        "\n",
        "    def area(self):\n",
        "        return self.width * self.height\n",
        "\n",
        "\n",
        "    def perimeter(self):\n",
        "        return 2 * (self.width + self.height)\n",
        "\n",
        "\n",
        "    def rectangle_dimensions(self):\n",
        "        return f'Ширина: {self.width}, Высота: {self.height}'\n",
        "\n",
        "\n",
        "figure = Rectangle(8, 12)\n",
        "print(figure.rectangle_dimensions())\n",
        "print(f'Площадь: {figure.area()}')\n",
        "print(f'Периметр: {figure.perimeter()}')"
      ],
      "metadata": {
        "id": "dG6uNPqTEAvt",
        "colab": {
          "base_uri": "https://localhost:8080/"
        },
        "outputId": "e1154e5c-0bf0-4841-8608-5a9b833773ed"
      },
      "execution_count": null,
      "outputs": [
        {
          "output_type": "stream",
          "name": "stdout",
          "text": [
            "Ширина: 8, Высота: 12\n",
            "Площадь: 96\n",
            "Периметр: 40\n"
          ]
        }
      ]
    },
    {
      "cell_type": "markdown",
      "source": [
        "# Задание 2"
      ],
      "metadata": {
        "id": "0ct1u6lqE73j"
      }
    },
    {
      "cell_type": "markdown",
      "source": [
        "Задание: Создайте мини версию банковской системы:\n",
        "\n",
        "\n",
        "Инструкции:\n",
        "\n",
        "1. Создайте класс BankAccount со следующими атрибутами:\n",
        "    - account_holder -  владелец счета\n",
        "    - balance - баланс счета\n",
        "\n",
        "2. Реализуйте следующие методы:\n",
        "    - Метод для инициализации владельца счета: имя владельца счета и установите начальный баланс на 0.\n",
        "    - deposit(amount): Добавьте указанную сумму к балансу.\n",
        "    - withdraw(amount): Вычесть указанную сумму из баланса, если средств достаточно; в противном случае вывести предупреждение.\n",
        "    - get_balance(): Возврат текущего баланса.\n",
        "\n",
        "\n",
        "Создайте объект класса и продемонстрируйте его возможности"
      ],
      "metadata": {
        "id": "FOpIpcLxE-WK"
      }
    },
    {
      "cell_type": "code",
      "source": [
        "class BankAccount:\n",
        "\n",
        "    def __init__(self, account_holder):\n",
        "        self.account_holder = account_holder\n",
        "        self.balance = 0\n",
        "\n",
        "\n",
        "    def deposit(self, amount):\n",
        "        if amount >= 0:\n",
        "            self.balance += amount\n",
        "            print(f'Депозит успешно внесён. Новый баланс: {self.balance}')\n",
        "        else:\n",
        "            print('Депозит должен быть положительным.')\n",
        "\n",
        "\n",
        "    def withdraw(self, amount):\n",
        "        if amount <= self.balance and amount >= 0:\n",
        "            self.balance -= amount\n",
        "            print(f'Снятие прошло успешно. Новый баланс: {self.balance}')\n",
        "        else:\n",
        "            print('Не удалось произвести снятие средств.')\n",
        "\n",
        "\n",
        "    def get_balance(self):\n",
        "        return self.balance\n",
        "\n",
        "\n",
        "account = BankAccount('Timofey Pushmin')\n",
        "print(f'Владелец аккаунта: {account.account_holder}')\n",
        "print(f'Баланс: {account.get_balance()}')\n",
        "account.deposit(1000)\n",
        "account.deposit(-10)\n",
        "account.withdraw(155)\n",
        "account.withdraw(900)\n",
        "print(f'Баланс: {account.get_balance()}')"
      ],
      "metadata": {
        "id": "WWXNIUrCE99W",
        "colab": {
          "base_uri": "https://localhost:8080/"
        },
        "outputId": "c69ebedb-820c-4f7c-c7c9-34c8f3074ede"
      },
      "execution_count": null,
      "outputs": [
        {
          "output_type": "stream",
          "name": "stdout",
          "text": [
            "Владелец аккаунта: Timofey Pushmin\n",
            "Баланс: 0\n",
            "Депозит успешно внесён. Новый баланс: 1000\n",
            "Депозит должен быть положительным.\n",
            "Снятие прошло успешно. Новый баланс: 845\n",
            "Не удалось произвести снятие средств.\n",
            "Баланс: 845\n"
          ]
        }
      ]
    },
    {
      "cell_type": "markdown",
      "source": [
        "# Задание 3"
      ],
      "metadata": {
        "id": "C5DX5Uf2FfP6"
      }
    },
    {
      "cell_type": "markdown",
      "source": [
        "Возьмите код и задание (Рыцарь и дракон) из предыдущей практики и реализуйте его с применением классов"
      ],
      "metadata": {
        "id": "0cR-MYepFgz6"
      }
    },
    {
      "cell_type": "code",
      "source": [
        "import random\n",
        "\n",
        "\n",
        "class Knight:\n",
        "\n",
        "    def __init__(self, name, armour, weapon, health, damage_min, damage_max):\n",
        "        self.name = name\n",
        "        self.armour = armour\n",
        "        self.weapon = weapon\n",
        "        self.health = health\n",
        "        self.damage_range = (damage_min, damage_max)\n",
        "\n",
        "\n",
        "    def attack(self):\n",
        "        return random.randint(*self.damage_range)\n",
        "\n",
        "\n",
        "    def do_damage(self, damage):\n",
        "        self.health -= damage\n",
        "        if self.health < 0:\n",
        "            self.health = 0\n",
        "\n",
        "\n",
        "    def is_alive(self):\n",
        "        return self.health > 0\n",
        "\n",
        "\n",
        "class Dragon:\n",
        "\n",
        "    def __init__(self, name, health, damage_min, damage_max):\n",
        "        self.name = name\n",
        "        self.health = health\n",
        "        self.damage_range = (damage_min, damage_max)\n",
        "\n",
        "\n",
        "    def attack(self):\n",
        "        return random.randint(*self.damage_range)\n",
        "\n",
        "\n",
        "    def do_damage(self, damage):\n",
        "        self.health -= damage\n",
        "        if self.health < 0:\n",
        "            self.health = 0\n",
        "\n",
        "\n",
        "    def is_alive(self):\n",
        "        return self.health > 0\n",
        "\n",
        "\n",
        "def knight_creation():\n",
        "    print('Давайте создадим рыцаря.')\n",
        "    name = input('Введите имя: ')\n",
        "    armour = int(input('Введите прочность доспехов: '))\n",
        "    weapon = input('Введите оружие: ')\n",
        "    damage_min = int(input('Введите минимальное значение урона: '))\n",
        "    damage_max = int(input('Введите максимальное значение урона: '))\n",
        "    health = int(input('Введите уровень вашего здоровья: '))\n",
        "    return Knight(name, armour, weapon, health, damage_min, damage_max)\n",
        "\n",
        "\n",
        "def dragon_creation():\n",
        "    print('\\nДавайте создадим дракона.')\n",
        "    name = input('Введите имя: ')\n",
        "    health = int(input('Введите уровень здоровья дракона: '))\n",
        "    damage_min = int(input('Введите минимальное значение урона: '))\n",
        "    damage_max = int(input('Введите максимальное значение урона: '))\n",
        "    return Dragon(name, health, damage_min, damage_max)\n",
        "\n",
        "\n",
        "def battle(knight, dragon):\n",
        "    print(f\"\\nРыцарь {knight.name} начинает сражение \"\n",
        "          f\"с драконом {dragon.name}.\")\n",
        "    print(f\"Показатели рыцаря (здоровье: {knight.health}, \"\n",
        "          f\"доспехи: {knight.armour}, оружие: {knight.weapon}).\")\n",
        "    print(f\"Здоровье дракона {dragon.name}: {dragon.health}.\")\n",
        "    while knight.is_alive() and dragon.is_alive():\n",
        "        knight_damage = knight.attack()\n",
        "        dragon.do_damage(knight_damage)\n",
        "        print(f\"{knight.name} наносит {knight_damage} урона дракону. \"\n",
        "              f\"Здоровье дракона {dragon.name}: {dragon.health}.\")\n",
        "        if not dragon.is_alive():\n",
        "            print(f\"\\n{knight.name} победил дракона {dragon.name}!\")\n",
        "            print('Игра завершена')\n",
        "            break\n",
        "        dragon_damage = dragon.attack()\n",
        "        knight.do_damage(dragon_damage)\n",
        "        print(f\"{dragon.name} наносит {dragon_damage} урона рыцарю. \"\n",
        "              f\"Здоровье рыцаря {knight.name}: {knight.health}.\")\n",
        "        if not knight.is_alive():\n",
        "            print(f\"\\n{dragon.name} победил рыцаря {knight.name}.\")\n",
        "            print('Игра завершена')\n",
        "            break\n",
        "\n",
        "\n",
        "def main():\n",
        "    print('Игра \"Рыцарь и дракон\"')\n",
        "    knight = knight_creation()\n",
        "    dragon = dragon_creation()\n",
        "    battle(knight, dragon)\n",
        "\n",
        "\n",
        "if __name__ == '__main__':\n",
        "    main()"
      ],
      "metadata": {
        "id": "Oz9BZbhAFwua",
        "colab": {
          "base_uri": "https://localhost:8080/"
        },
        "outputId": "b6cef60c-613d-4fb1-f374-dff6bab4c2d5"
      },
      "execution_count": null,
      "outputs": [
        {
          "output_type": "stream",
          "name": "stdout",
          "text": [
            "Игра \"Рыцарь и дракон\"\n",
            "Давайте создадим рыцаря.\n",
            "Введите имя: Илья\n",
            "Введите прочность доспехов: 56\n",
            "Введите оружие: 4\n",
            "Введите минимальное значение урона: 45\n",
            "Введите максимальное значение урона: 47\n",
            "Введите уровень вашего здоровья: 500\n",
            "\n",
            "Давайте создадим дракона.\n",
            "Введите имя: Дракоша\n",
            "Введите уровень здоровья дракона: 56\n",
            "Введите минимальное значение урона: 4\n",
            "Введите максимальное значение урона: 40\n",
            "\n",
            "Рыцарь Илья начинает сражение с драконом Дракоша.\n",
            "Показатели рыцаря (здоровье: 500, доспехи: 56, оружие: 4).\n",
            "Здоровье дракона Дракоша: 56.\n",
            "Илья наносит 45 урона дракону. Здоровье дракона Дракоша: 11.\n",
            "Дракоша наносит 18 урона рыцарю. Здоровье рыцаря Илья: 482.\n",
            "Илья наносит 46 урона дракону. Здоровье дракона Дракоша: 0.\n",
            "\n",
            "Илья победил дракона Дракоша!\n",
            "Игра завершена\n"
          ]
        }
      ]
    },
    {
      "cell_type": "markdown",
      "source": [
        "# Дополнительное задание\n"
      ],
      "metadata": {
        "id": "b_mJHXcQGI9t"
      }
    },
    {
      "cell_type": "markdown",
      "source": [
        "Задача: Система управления библиотекой\n",
        "\n",
        "**Цель**\n",
        "Создайте простую систему управления библиотекой, которая позволит пользователям добавлять книги, брать книги, возвращать книги и просматривать список доступных книг.\n",
        "\n",
        "**Требования**\n",
        "\n",
        "1. **Определение класса**:\n",
        "   – Создайте класс с именем «Book» со следующими атрибутами:\n",
        "     - `title`\n",
        "     - `автор`\n",
        "     - `isbn`\n",
        "     - `is_borrowed` (по умолчанию `False`)\n",
        "\n",
        "2. **Класс библиотеки**:\n",
        "   - Создайте класс с именем Library, который управляет коллекцией книг.\n",
        "   - Класс должен иметь следующие методы:\n",
        "     - `__init__(self)`: инициализирует пустой список книг.\n",
        "     - `add_book(self, book: Book)`: добавляет новую книгу в библиотеку.\n",
        "     - `borrow_book(self, isbn: str)`: помечает книгу как заимствованную. Если книга не найдена или уже взята, выведите соответствующее сообщение.\n",
        "     - `return_book(self, isbn: str)`: помечает книгу как возвращенную. Если книга не найдена или не была взята взаймы, выведите соответствующее сообщение.\n",
        "     - `list_available_books(self)`: печатает список всех доступных книг в библиотеке.\n",
        "     - `find_book(self, isbn: str)`: возвращает объект книги, если он найден, в противном случае возвращает `None`.\n",
        "\n",
        "3. **Взаимодействие с пользователем**:\n",
        "   - Создайте простое текстовое меню, которое позволит пользователям:\n",
        "     - Добавить книгу\n",
        "     - Одолжить книгу\n",
        "     - Вернуть книгу\n",
        "     - Список доступных книг\n",
        "     - Выйти из программы"
      ],
      "metadata": {
        "id": "pnIUdFPcGOVL"
      }
    },
    {
      "cell_type": "code",
      "source": [],
      "metadata": {
        "id": "GKKmdfN8GL6f"
      },
      "execution_count": null,
      "outputs": []
    }
  ]
}