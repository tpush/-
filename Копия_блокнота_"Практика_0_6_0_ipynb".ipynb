{
  "nbformat": 4,
  "nbformat_minor": 0,
  "metadata": {
    "colab": {
      "provenance": [],
      "include_colab_link": true
    },
    "kernelspec": {
      "name": "python3",
      "display_name": "Python 3"
    },
    "language_info": {
      "name": "python"
    }
  },
  "cells": [
    {
      "cell_type": "markdown",
      "metadata": {
        "id": "view-in-github",
        "colab_type": "text"
      },
      "source": [
        "<a href=\"https://colab.research.google.com/github/tpush/-/blob/main/%D0%9A%D0%BE%D0%BF%D0%B8%D1%8F_%D0%B1%D0%BB%D0%BE%D0%BA%D0%BD%D0%BE%D1%82%D0%B0_%22%D0%9F%D1%80%D0%B0%D0%BA%D1%82%D0%B8%D0%BA%D0%B0_0_6_0_ipynb%22.ipynb\" target=\"_parent\"><img src=\"https://colab.research.google.com/assets/colab-badge.svg\" alt=\"Open In Colab\"/></a>"
      ]
    },
    {
      "cell_type": "markdown",
      "source": [
        "\n",
        "\n",
        "---\n",
        "\n"
      ],
      "metadata": {
        "id": "tKNG_RzWxG6g"
      }
    },
    {
      "cell_type": "markdown",
      "source": [
        "# **Дисклеймер**\n",
        "\n",
        "В данной практике будет введен дополнительный критерий: чистота и читаемость кода, а также соблюдение правил описанных в начале практики"
      ],
      "metadata": {
        "id": "cFcrKfclKWh0"
      }
    },
    {
      "cell_type": "markdown",
      "source": [
        "\n",
        "\n",
        "---\n",
        "\n"
      ],
      "metadata": {
        "id": "0SnE87X1xDlV"
      }
    },
    {
      "cell_type": "markdown",
      "source": [
        "# Задание 1\n",
        "\n",
        "**Задача:**\n",
        "\n",
        "Напишите функцию очищающий список от дубликтов\n",
        "\n",
        "\n",
        "*Запрещено:*\n",
        "\n",
        "*   Использовать set() или готовые функции очищающие список от дубликатов\n",
        "\n",
        "Вввод:\n",
        "\n",
        "```\n",
        "apple banana apple 1 3 4 4 5\n",
        "```\n",
        "\n",
        "\n",
        "Вывод:\n",
        "\n",
        "```\n",
        "apple banana 1 3 4 5\n",
        "```\n",
        "\n"
      ],
      "metadata": {
        "id": "VxawR9NubT_F"
      }
    },
    {
      "cell_type": "code",
      "source": [
        "def duplicates(listt):\n",
        "    a = []\n",
        "    for i in listt:\n",
        "        if i not in a:\n",
        "            a.append(i)\n",
        "    return a\n",
        "\n",
        "\n",
        "a = input().split()\n",
        "print(*duplicates(a))"
      ],
      "metadata": {
        "id": "ml5gnbPXbeju",
        "colab": {
          "base_uri": "https://localhost:8080/"
        },
        "outputId": "32e8d9f9-46c2-481d-96a3-2afcb3245486"
      },
      "execution_count": null,
      "outputs": [
        {
          "output_type": "stream",
          "name": "stdout",
          "text": [
            "apple banana apple 1 3 4 4 5\n",
            "apple banana 1 3 4 5\n"
          ]
        }
      ]
    },
    {
      "cell_type": "markdown",
      "source": [
        "# Задание 2\n",
        "\n",
        "**Задача:**\n",
        "\n",
        "Написать функцию для нахождения простых чисел в диапазоне\n",
        "\n",
        "Ввод:\n",
        "\n",
        "```\n",
        "10, 50\n",
        "```\n",
        "\n",
        "Вывод:\n",
        "\n",
        "```\n",
        "11, 13, 17, 19, 23, 29, 31, 37, 41, 43, 47\n",
        "```"
      ],
      "metadata": {
        "id": "y05x0eD0cVCC"
      }
    },
    {
      "cell_type": "code",
      "source": [
        "def is_prime(a, b):\n",
        "    c = []\n",
        "    for i in range(a, b + 1):\n",
        "        if i < 2:\n",
        "            continue\n",
        "        prime = True\n",
        "        for k in range(2, a):\n",
        "            if i % k == 0:\n",
        "                prime = False\n",
        "                break\n",
        "        if prime == True:\n",
        "            c.append(i)\n",
        "    return c\n",
        "\n",
        "\n",
        "a, b = map(int, input().split())\n",
        "print(*is_prime(a, b))"
      ],
      "metadata": {
        "id": "XSMJnLgrc6Bf",
        "colab": {
          "base_uri": "https://localhost:8080/"
        },
        "outputId": "8c0b3b8d-95ae-4daa-8a36-60a503059dd1"
      },
      "execution_count": null,
      "outputs": [
        {
          "output_type": "stream",
          "name": "stdout",
          "text": [
            "10 50\n",
            "11 13 17 19 23 29 31 37 41 43 47\n"
          ]
        }
      ]
    },
    {
      "cell_type": "markdown",
      "source": [
        "# Задание 3\n",
        "\n",
        "Напишите функцию для объединения двух списков (список ключей и список значении) в словарь\n",
        "\n",
        "*Запрещено:*\n",
        "\n",
        "*   Использования готовых функции для объединения списков (пример: zip() )\n",
        "\n",
        "Дано:\n",
        "\n",
        "```\n",
        "keys = ['a', 'b', 'c', 'e' ]\n",
        "values = [1, 2, 3, 4]\n",
        "```\n",
        "\n",
        "Вывод:\n",
        "```\n",
        "{'a': 1, 'b': 2, 'c': 3, 'e': 4}\n",
        "```\n",
        "\n",
        "\n"
      ],
      "metadata": {
        "id": "vYM0LyxxdElN"
      }
    },
    {
      "cell_type": "code",
      "source": [
        "def list_merging(keys, values):\n",
        "  dict = {}\n",
        "  for i in range(len(keys)):\n",
        "    dict[keys[i]] = values[i]\n",
        "  return dict\n",
        "\n",
        "\n",
        "keys = input().split()\n",
        "values = input().split()\n",
        "a = list_merging(keys, values)\n",
        "print(a)"
      ],
      "metadata": {
        "id": "CRvhHTjCdvjS",
        "colab": {
          "base_uri": "https://localhost:8080/"
        },
        "outputId": "3dbf98a9-5090-45e3-f027-0cea5508c62f"
      },
      "execution_count": null,
      "outputs": [
        {
          "output_type": "stream",
          "name": "stdout",
          "text": [
            "a b c e\n",
            "1 2 3 4\n",
            "{'a': '1', 'b': '2', 'c': '3', 'e': '4'}\n"
          ]
        }
      ]
    },
    {
      "cell_type": "markdown",
      "source": [
        "# Задание 4\n",
        "\n",
        "Напишите функцию(ии) для подсчета статистических параметров:\n",
        "*   Сумму\n",
        "*   Среднее арифметическое\n",
        "*   Медиану\n",
        "*   Моду\n",
        "\n",
        "\n",
        "*Запрещено:*\n",
        "\n",
        "*   sum()\n",
        "*   sorted()\n",
        "*   и других функции предоставляющих готовое решение задания\n",
        "\n",
        "Дано:\n",
        "\n",
        "```\n",
        "numbers = [1, 2, 2, 3, 4, 5, 6, 7, 8 ,9 ,10]\n",
        "\n",
        "```\n",
        "\n",
        "Вывод:\n",
        "```\n",
        "{'mean': 5.181818181818182, 'median': 5, 'mode': 2, 'sum': 57}\n",
        "```\n"
      ],
      "metadata": {
        "id": "L_w8H8i-fQcP"
      }
    },
    {
      "cell_type": "code",
      "source": [
        "def amount(numbers):\n",
        "    summ = 0\n",
        "    for num in numbers:\n",
        "        summ += num\n",
        "    return summ\n",
        "\n",
        "\n",
        "def mean(numbers):\n",
        "    mean = amount(numbers) / len(numbers)\n",
        "    return mean\n",
        "\n",
        "\n",
        "def median(numbers):\n",
        "    for i in range(len(numbers)):\n",
        "        for j in range(i + 1, len(numbers)):\n",
        "            if numbers[i] > numbers[j]:\n",
        "                numbers[i], numbers[j] = numbers[j], numbers[i]\n",
        "    if len(numbers) % 2 == 0:\n",
        "        median = (numbers[len(numbers) // 2 - 1] +\n",
        "                  numbers[len(numbers) // 2]) / 2\n",
        "    else:\n",
        "        median = numbers[len(numbers) // 2]\n",
        "    return median\n",
        "\n",
        "\n",
        "def mode(numbers):\n",
        "    dictionary = {}\n",
        "    for num in numbers:\n",
        "        if num in dictionary:\n",
        "            dictionary[num] += 1\n",
        "        else:\n",
        "            dictionary[num] = 1\n",
        "    max_cnt = 0\n",
        "    for num, cnt in dictionary.items():\n",
        "        if cnt > max_cnt:\n",
        "            max_cnt = cnt\n",
        "            mode = num\n",
        "    return mode\n",
        "\n",
        "\n",
        "def result(numbers):\n",
        "    return {\n",
        "        'mean': mean(numbers),\n",
        "        'median': median(numbers),\n",
        "        'mode': mode(numbers),\n",
        "        'sum': amount(numbers)\n",
        "    }\n",
        "\n",
        "\n",
        "numbers = [1, 2, 2, 3, 4, 5, 6, 7, 8, 9, 10]\n",
        "print(result(numbers))"
      ],
      "metadata": {
        "id": "dW6jW_rjfuba",
        "colab": {
          "base_uri": "https://localhost:8080/"
        },
        "outputId": "2fa2d342-b0b8-45fe-faa2-322064d23193"
      },
      "execution_count": null,
      "outputs": [
        {
          "output_type": "stream",
          "name": "stdout",
          "text": [
            "{'mean': 5.181818181818182, 'median': 5, 'mode': 2, 'sum': 57}\n"
          ]
        }
      ]
    },
    {
      "cell_type": "markdown",
      "source": [
        "# Задание 5\n",
        "\n",
        "На ввод поступает строка символов. Строка состоит из слов, которые отделены друг от друга пробелами. Необходимо вывести самое длинное слово и его порядковый номер.\n",
        "\n",
        "*Запрещено:*\n",
        "\n",
        "*   len()\n",
        "\n",
        "Дано:\n",
        "\n",
        "```\n",
        "Страдание и боль всегда обязательны для широкого сознания и глубокого сердца.\n",
        "\n",
        "```\n",
        "\n",
        "Вывод:\n",
        "```\n",
        "Самое длинное слово с номером 5: обязательны\n",
        "```"
      ],
      "metadata": {
        "id": "hZW0NZ7SgTcp"
      }
    },
    {
      "cell_type": "code",
      "source": [
        "def length(word):\n",
        "    length = 0\n",
        "    for i in word:\n",
        "        length += 1\n",
        "    return length\n",
        "\n",
        "\n",
        "def the_longest_word(sentence):\n",
        "    words = sentence.split()\n",
        "    max_length = 0\n",
        "    lword = ''\n",
        "    lword_index = 0\n",
        "    word_index = 1\n",
        "    for word in words:\n",
        "        length_now = length(word)\n",
        "        if length_now > max_length:\n",
        "            max_length = length_now\n",
        "            lword = word\n",
        "            lword_index = word_index\n",
        "        word_index += 1\n",
        "    return lword, lword_index\n",
        "\n",
        "\n",
        "sentence = 'Страдание и боль всегда обязательны для широкого сознания и глубокого сердца.'\n",
        "longest_word, index = the_longest_word(sentence)\n",
        "print('Самое длинное слово с номером ', index, ': ', longest_word, sep='')"
      ],
      "metadata": {
        "id": "rC5DpHHLsDYp",
        "colab": {
          "base_uri": "https://localhost:8080/"
        },
        "outputId": "59f33f25-f5eb-4f7f-e5db-2b4f35786aef"
      },
      "execution_count": null,
      "outputs": [
        {
          "output_type": "stream",
          "name": "stdout",
          "text": [
            "Самое длинное слово с номером 5: обязательны\n"
          ]
        }
      ]
    },
    {
      "cell_type": "markdown",
      "source": [
        "# Задание 6\n",
        "\n",
        "Напишите программу, для управления оценками студентов, со следующими функциями:\n",
        "\n",
        "* Добавление информации о студенте и его оценках.\n",
        "* Подсчет среднего балла студента.\n",
        "* Получение списка всех студентов с их средними баллами.\n",
        "* Поиск студента по имени и вывод его оценок и среднего балла.\n",
        "\n",
        "\n",
        "\n"
      ],
      "metadata": {
        "id": "k5BzJW5ZeaQN"
      }
    },
    {
      "cell_type": "code",
      "source": [
        "students = {}\n",
        "\n",
        "\n",
        "def add1():\n",
        "    name = input('Введите имя студента: ')\n",
        "    grades = input('Введите оценки через пробел: ')\n",
        "    grades1 = [int(grade) for grade in grades.split()]\n",
        "    students[name] = grades1\n",
        "\n",
        "\n",
        "def average(name):\n",
        "    if name in students:\n",
        "        return sum(students[name]) / len(students[name])\n",
        "    else:\n",
        "        return 'Ошибка'\n",
        "\n",
        "\n",
        "def allstud():\n",
        "    for name, grades in students.items():\n",
        "        print('Студент: ', name, '; Средний балл: ',\n",
        "              average(name), sep='')\n",
        "\n",
        "\n",
        "def search(name):\n",
        "    if name in students:\n",
        "        print('Студент:', name)\n",
        "        print('Оценки:', students[name])\n",
        "        print('Средний балл:', average(name))\n",
        "    else:\n",
        "        print('Ошибка')\n",
        "\n",
        "\n",
        "while True:\n",
        "    print('\\n1. Добавить студента')\n",
        "    print('2. Показать всех студентов')\n",
        "    print('3. Найти студента по имени')\n",
        "    print('4. Выход')\n",
        "    choice = input('Выберите действие: ')\n",
        "    if choice == '1':\n",
        "        add1()\n",
        "    elif choice == '2':\n",
        "        allstud()\n",
        "    elif choice == '3':\n",
        "        name = input('Введите имя студента: ')\n",
        "        search(name)\n",
        "    elif choice == '4':\n",
        "        print('Работа завершена')\n",
        "        break\n",
        "    else:\n",
        "        print('Ошибка')"
      ],
      "metadata": {
        "id": "cvhlltVbdyoL",
        "colab": {
          "base_uri": "https://localhost:8080/"
        },
        "outputId": "52980721-fb0a-452d-aab4-48fe0309ff5b"
      },
      "execution_count": null,
      "outputs": [
        {
          "output_type": "stream",
          "name": "stdout",
          "text": [
            "\n",
            "1. Добавить студента\n",
            "2. Показать всех студентов\n",
            "3. Найти студента по имени\n",
            "4. Выход\n",
            "Выберите действие: 1\n",
            "Введите имя студента: Алексей\n",
            "Введите оценки через пробел: 4 4 4 5 3 5 2 5 3 5\n",
            "\n",
            "1. Добавить студента\n",
            "2. Показать всех студентов\n",
            "3. Найти студента по имени\n",
            "4. Выход\n",
            "Выберите действие: 1\n",
            "Введите имя студента: Богдан\n",
            "Введите оценки через пробел: 4 3 2 4 2 5 3 5\n",
            "\n",
            "1. Добавить студента\n",
            "2. Показать всех студентов\n",
            "3. Найти студента по имени\n",
            "4. Выход\n",
            "Выберите действие: 1\n",
            "Введите имя студента: Владислав\n",
            "Введите оценки через пробел: 4 2 5 5 5 5 5 5\n",
            "\n",
            "1. Добавить студента\n",
            "2. Показать всех студентов\n",
            "3. Найти студента по имени\n",
            "4. Выход\n",
            "Выберите действие: 2\n",
            "Студент: Алексей; Средний балл: 4.0\n",
            "Студент: Богдан; Средний балл: 3.5\n",
            "Студент: Владислав; Средний балл: 4.5\n",
            "\n",
            "1. Добавить студента\n",
            "2. Показать всех студентов\n",
            "3. Найти студента по имени\n",
            "4. Выход\n",
            "Выберите действие: 3\n",
            "Введите имя студента: Богдан\n",
            "Студент: Богдан\n",
            "Оценки: [4, 3, 2, 4, 2, 5, 3, 5]\n",
            "Средний балл: 3.5\n",
            "\n",
            "1. Добавить студента\n",
            "2. Показать всех студентов\n",
            "3. Найти студента по имени\n",
            "4. Выход\n",
            "Выберите действие: 4\n",
            "Работа завершена\n"
          ]
        }
      ]
    },
    {
      "cell_type": "markdown",
      "source": [
        "# Задание 7\n",
        "\n",
        "\n",
        "**Задача:**\n",
        "\n",
        "Создайте приложение-викторину с командной строкой, которое задает пользователям вопросы по различным темам и отслеживает их результаты.\n",
        "\n",
        "Ключевые особенности:\n",
        "\n",
        "*   Хранение данных о вопросах и ответах на них, а также баллов за каждый вопрос\n",
        "*   Реализуйте функцию для представления вопросов, принятия ответов пользователей и предоставления обратной связи о том, являются ли ответы правильными или неправильными.\n",
        "*  После завершения викторины отобразите общий балл пользователя из числа ответов на вопросы.\n",
        "*  Реализуйте функцию добавления нового вопроса\n",
        "*  Реализуйте функцию перемешивания вопросов, для отображения случайного вопроса\n"
      ],
      "metadata": {
        "id": "iQ8Z-7PYgu1_"
      }
    },
    {
      "cell_type": "code",
      "source": [
        "import random\n",
        "\n",
        "\n",
        "questions = [\n",
        "    {'question': 'Какая планета самая горячая?',\n",
        "     'answer': 'Венера', 'points': 1},\n",
        "    {'question': 'Сколько костей в теле человека?',\n",
        "     'answer': '206', 'points': 5},\n",
        "    {'question': 'Сколько сердец у осьминога?',\n",
        "     'answer': '3', 'points': 4},\n",
        "    {'question': 'Кол-во дней в феврале в високосный год?',\n",
        "     'answer': '29', 'points': 1},\n",
        "    {'question': 'Сколько градусов в круге?',\n",
        "     'answer': '360', 'points': 1},\n",
        "    {'question': 'Сколько колец на олимпийском флаге?',\n",
        "     'answer': '5', 'points': 1},\n",
        "    {'question': 'Самый популярный напиток?',\n",
        "     'answer': 'чай', 'points': 2},\n",
        "    {'question': 'Самый большой континент?',\n",
        "     'answer': \"Евразия\", 'points': 2},\n",
        "    {'question': 'Ближайшая к Cолнцу планета?',\n",
        "     'answer': 'Меркурий', 'points': 3}\n",
        "]\n",
        "\n",
        "\n",
        "def quiz():\n",
        "    success_points = 0\n",
        "    for question in questions:\n",
        "        print(question['question'])\n",
        "        player_response = input('Ответ: ')\n",
        "        if player_response.upper() == question['answer'].upper():\n",
        "            print('Верно')\n",
        "            success_points += question['points']\n",
        "        else:\n",
        "            print('Неправильно. Ответ:', question['answer'])\n",
        "    print('Баллы:', success_points, '| Максимум:',\n",
        "          sum(q['points'] for q in questions))\n",
        "\n",
        "\n",
        "def addition():\n",
        "    new_question_text = input('Введите новый вопрос: ')\n",
        "    correct_answer = input('Введите правильный ответ: ')\n",
        "    points = int(input('Введите кол-во баллов за правильный ответ: '))\n",
        "    new_question = {'question': new_question_text,\n",
        "                    'answer': correct_answer, 'points': points}\n",
        "    questions.append(new_question)\n",
        "    print('Добавление нового вопроса завершено')\n",
        "\n",
        "\n",
        "def mixing():\n",
        "    for i in range(len(questions) - 1, 0, -1):\n",
        "        j = random.randint(0, i)\n",
        "        questions[i], questions[j] = questions[j], questions[i]\n",
        "\n",
        "\n",
        "def main():\n",
        "    while True:\n",
        "        print('\\n1. Начало викторины')\n",
        "        print('2. Добавление нового вопроса')\n",
        "        print('3. Перемешивание вопросов')\n",
        "        print('4. Завершение работы')\n",
        "        choice = input('Выберите команду: ')\n",
        "        if choice == '1':\n",
        "            quiz()\n",
        "        elif choice == '2':\n",
        "            addition()\n",
        "        elif choice == '3':\n",
        "            mixing()\n",
        "            print('Перемешивание вопросов выполнено')\n",
        "        elif choice == '4':\n",
        "            print('Работа завершена')\n",
        "            break\n",
        "        else:\n",
        "            print('Ошибка')\n",
        "\n",
        "\n",
        "if __name__ == '__main__':\n",
        "    main()"
      ],
      "metadata": {
        "id": "DhxyYwHwh2V4",
        "colab": {
          "base_uri": "https://localhost:8080/"
        },
        "outputId": "e0329c7e-a5fe-4033-be18-0aba9d222ab2"
      },
      "execution_count": null,
      "outputs": [
        {
          "output_type": "stream",
          "name": "stdout",
          "text": [
            "\n",
            "1. Начало викторины\n",
            "2. Добавление нового вопроса\n",
            "3. Перемешивание вопросов\n",
            "4. Завершение работы\n",
            "Выберите команду: 2\n",
            "Введите новый вопрос: Сколько месяцев в году?\n",
            "Введите правильный ответ: 12\n",
            "Введите кол-во баллов за правильный ответ: 5\n",
            "Добавление нового вопроса завершено\n",
            "\n",
            "1. Начало викторины\n",
            "2. Добавление нового вопроса\n",
            "3. Перемешивание вопросов\n",
            "4. Завершение работы\n",
            "Выберите команду: 1\n",
            "Какая планета самая горячая?\n",
            "Ответ: Венера\n",
            "Верно\n",
            "Сколько костей в теле человека?\n",
            "Ответ: 206\n",
            "Верно\n",
            "Сколько сердец у осьминога?\n",
            "Ответ: 3\n",
            "Верно\n",
            "Кол-во дней в феврале в високосный год?\n",
            "Ответ: 29\n",
            "Верно\n",
            "Сколько градусов в круге?\n",
            "Ответ: 360\n",
            "Верно\n",
            "Сколько колец на олимпийском флаге?\n",
            "Ответ: 5\n",
            "Верно\n",
            "Самый популярный напиток?\n",
            "Ответ: чай\n",
            "Верно\n",
            "Самый большой континент?\n",
            "Ответ: евразия\n",
            "Верно\n",
            "Ближайшая к Cолнцу планета?\n",
            "Ответ: меркурий\n",
            "Верно\n",
            "Сколько месяцев в году?\n",
            "Ответ: 12\n",
            "Верно\n",
            "Баллы: 25 | Максимум: 25\n",
            "\n",
            "1. Начало викторины\n",
            "2. Добавление нового вопроса\n",
            "3. Перемешивание вопросов\n",
            "4. Завершение работы\n",
            "Выберите команду: 4\n",
            "Работа завершена\n"
          ]
        }
      ]
    }
  ]
}