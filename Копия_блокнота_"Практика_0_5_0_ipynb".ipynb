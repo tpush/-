{
  "nbformat": 4,
  "nbformat_minor": 0,
  "metadata": {
    "colab": {
      "provenance": [],
      "include_colab_link": true
    },
    "kernelspec": {
      "name": "python3",
      "display_name": "Python 3"
    },
    "language_info": {
      "name": "python"
    }
  },
  "cells": [
    {
      "cell_type": "markdown",
      "metadata": {
        "id": "view-in-github",
        "colab_type": "text"
      },
      "source": [
        "<a href=\"https://colab.research.google.com/github/tpush/-/blob/main/%D0%9A%D0%BE%D0%BF%D0%B8%D1%8F_%D0%B1%D0%BB%D0%BE%D0%BA%D0%BD%D0%BE%D1%82%D0%B0_%22%D0%9F%D1%80%D0%B0%D0%BA%D1%82%D0%B8%D0%BA%D0%B0_0_5_0_ipynb%22.ipynb\" target=\"_parent\"><img src=\"https://colab.research.google.com/assets/colab-badge.svg\" alt=\"Open In Colab\"/></a>"
      ]
    },
    {
      "cell_type": "markdown",
      "source": [
        "ФИО:"
      ],
      "metadata": {
        "id": "Bu5gIJfHNPHw"
      }
    },
    {
      "cell_type": "code",
      "execution_count": null,
      "metadata": {
        "id": "CbHI8c7cM9Eg"
      },
      "outputs": [],
      "source": [
        "Пушмин Тимофей Анатольевич"
      ]
    },
    {
      "cell_type": "markdown",
      "source": [
        "# **Задание 1**"
      ],
      "metadata": {
        "id": "VrNrBpmocGRd"
      }
    },
    {
      "cell_type": "markdown",
      "source": [
        "\n",
        "\n",
        "Дан словарь, содержащий имена и возраст людей, напишите программу выводящую возраст человека по имени\n",
        "\n",
        "Дано:\n",
        "\n",
        "```\n",
        "{\"Alice\": 25, \"Bob\": 30, \"Charlie\": 35}\n",
        "```\n",
        "\n",
        "Вввод:\n",
        "\n",
        "\n",
        "```\n",
        "Alice\n",
        "```\n",
        "\n",
        "Вывод:\n",
        "\n",
        "\n",
        "```\n",
        "Alice 25\n",
        "```\n"
      ],
      "metadata": {
        "id": "XhV1bnm1bR2h"
      }
    },
    {
      "cell_type": "code",
      "source": [
        "people = {\"Alice\": 25, \"Bob\": 30, \"Charlie\": 35}\n",
        "name = input()\n",
        "if name in people:\n",
        "    print(name, people[name])\n",
        "else:\n",
        "    print('Ошибка')"
      ],
      "metadata": {
        "id": "PElJj6DvsgjD",
        "colab": {
          "base_uri": "https://localhost:8080/"
        },
        "outputId": "46c2bbf1-2c18-4668-c7ce-3ca785a70b7b"
      },
      "execution_count": null,
      "outputs": [
        {
          "output_type": "stream",
          "name": "stdout",
          "text": [
            "Alice\n",
            "Alice 25\n"
          ]
        }
      ]
    },
    {
      "cell_type": "markdown",
      "source": [
        "# **Задание 2**\n"
      ],
      "metadata": {
        "id": "lpjJz-_YcJ-t"
      }
    },
    {
      "cell_type": "markdown",
      "source": [
        "\n",
        "\n",
        "Дан список, состоящий из целых чисел, необходимо написать функцию считающую сумму всех положительных четных чисел списка\n",
        "\n",
        "Ввод:\n",
        "\n",
        "```\n",
        "1, 2, 3, 4, 5, 6, 7, 8, 9\n",
        "```\n",
        "\n",
        "Вывод:\n",
        "\n",
        "\n",
        "```\n",
        "20\n",
        "```\n",
        "\n",
        "***Запрещено:***\n",
        "\n",
        "*   Использование готовых функций для суммирования чисел\n"
      ],
      "metadata": {
        "id": "tMEsAB4rUiWW"
      }
    },
    {
      "cell_type": "code",
      "source": [
        "def summ(a):\n",
        "  b = 0\n",
        "  for i in a:\n",
        "    if i > 0 and i % 2 == 0:\n",
        "      b += i\n",
        "  return b\n",
        "\n",
        "\n",
        "a = input()\n",
        "b = [int(i) for i in a.split()]\n",
        "print(summ(b))"
      ],
      "metadata": {
        "id": "wDNUFLeqNQS_",
        "colab": {
          "base_uri": "https://localhost:8080/"
        },
        "outputId": "df74d49f-7726-42d1-c87b-807188473fa9"
      },
      "execution_count": null,
      "outputs": [
        {
          "output_type": "stream",
          "name": "stdout",
          "text": [
            "1 2 3 4 5 6 7 8 9\n",
            "20\n"
          ]
        }
      ]
    },
    {
      "cell_type": "markdown",
      "source": [
        "# **Задание 3**"
      ],
      "metadata": {
        "id": "WT_v-vz1dUZJ"
      }
    },
    {
      "cell_type": "markdown",
      "source": [
        "Дан словарь, содержащий название фрукта и его цвет, выведите список всех желтых фруктов\n",
        "\n",
        "\n",
        "Дано:\n",
        "\n",
        "```\n",
        "fruits_and_colors = {\n",
        "    \"apple\": \"red\",\n",
        "    \"banana\": \"yellow\",\n",
        "    \"mango\": \"yellow\",\n",
        "    \"orange\": \"orange\",\n",
        "    \"lemon\": \"yellow\",\n",
        "    \"grape\": \"purple\"\n",
        "}\n",
        "```\n",
        "\n",
        "Вывод:\n",
        "\n",
        "\n",
        "```\n",
        "Yellow fruits:\n",
        "banana\n",
        "lemon\n",
        "mango\n",
        "```\n",
        "\n"
      ],
      "metadata": {
        "id": "ZI5Xeh2DdXgF"
      }
    },
    {
      "cell_type": "code",
      "source": [
        "fruits_and_colors = {\n",
        "    \"apple\": \"red\",\n",
        "    \"banana\": \"yellow\",\n",
        "    \"mango\": \"yellow\",\n",
        "    \"orange\": \"orange\",\n",
        "    \"lemon\": \"yellow\",\n",
        "    \"grape\": \"purple\"\n",
        "}\n",
        "yellow_fruits = []\n",
        "for fruit, color in fruits_and_colors.items():\n",
        "    if color == 'yellow':\n",
        "        yellow_fruits.append(fruit)\n",
        "print('Yellow fruits:')\n",
        "for fruit in yellow_fruits:\n",
        "    print(fruit)"
      ],
      "metadata": {
        "id": "aNzFTkhKdkTG",
        "colab": {
          "base_uri": "https://localhost:8080/"
        },
        "outputId": "6097bc87-16bf-4ee7-8148-8c66bea7b3e1"
      },
      "execution_count": null,
      "outputs": [
        {
          "output_type": "stream",
          "name": "stdout",
          "text": [
            "Yellow fruits:\n",
            "banana\n",
            "mango\n",
            "lemon\n"
          ]
        }
      ]
    },
    {
      "cell_type": "markdown",
      "source": [
        "# **Задание 4**\n"
      ],
      "metadata": {
        "id": "iHtMGt2icM7w"
      }
    },
    {
      "cell_type": "markdown",
      "source": [
        "\n",
        "\n",
        "Дан словарь, необходимо написать функцию меняющую ключ и значение местами\n",
        "\n",
        "Дано:\n",
        "\n",
        "\n",
        "```\n",
        "{\"a\": 1, \"b\": 2, \"c\": 3}\n",
        "```\n",
        "\n",
        "Вывод:\n",
        "\n",
        "```\n",
        "{1: 'a', 2: 'b', 3: 'c'}\n",
        "```\n",
        "\n"
      ],
      "metadata": {
        "id": "rS3THsnBQ_EB"
      }
    },
    {
      "cell_type": "code",
      "source": [
        "def kv(dct):\n",
        "    dict = {}\n",
        "    for k, v in dct.items():\n",
        "        dict[v] = k\n",
        "    return dict\n",
        "\n",
        "\n",
        "dct = {\"a\": 1, \"b\": 2, \"c\": 3}\n",
        "print(kv(dct))"
      ],
      "metadata": {
        "id": "MNRusyLDcQ59",
        "colab": {
          "base_uri": "https://localhost:8080/"
        },
        "outputId": "f08b5acc-6444-4016-c8bb-f7dcff96b9bd"
      },
      "execution_count": null,
      "outputs": [
        {
          "output_type": "stream",
          "name": "stdout",
          "text": [
            "{1: 'a', 2: 'b', 3: 'c'}\n"
          ]
        }
      ]
    },
    {
      "cell_type": "markdown",
      "source": [
        "# **Задание 5**"
      ],
      "metadata": {
        "id": "x6ff5nd0cUxD"
      }
    },
    {
      "cell_type": "markdown",
      "source": [
        "Дан список слов, неограниченной длинны, сформируйте словарь, где в качестве ключа будет слово, а в качестве значения количество слов\n",
        "\n",
        "**Критерии**\n",
        "\n",
        "\n",
        "*   Словарь необходимо отсортировать по убыванию количества элементов в списке.\n",
        "*   Подсчет элементов должен быть реализован в отдельной функции\n",
        "*   Сортировка пары `ключ:значение` должна быть реализована также в виде отдельной функции\n",
        "\n",
        "\n",
        "\n",
        "\n",
        "Дано:\n",
        "```\n",
        "['apple','banana','orange','apple','apple','banana']\n",
        "```\n",
        "\n",
        "\n",
        "Вывод:\n",
        "```\n",
        "{'apple':3, 'banana': 2, 'orange': 1}\n",
        "```\n",
        "\n",
        "***Запрещено:***\n",
        "\n",
        "*   Использование готовых функций для сортировки\n",
        "*   Использование готовых функций для подсчета элементов\n",
        "\n"
      ],
      "metadata": {
        "id": "ypQNHOG4NQz3"
      }
    },
    {
      "cell_type": "code",
      "source": [
        "def countt(words):\n",
        "    cnt = {}\n",
        "    for i in words:\n",
        "        if i not in cnt:\n",
        "            cnt[i] = 1\n",
        "        else:\n",
        "            cnt[i] += 1\n",
        "    return cnt\n",
        "\n",
        "\n",
        "def sortt(a):\n",
        "  for i in range(len(a)):\n",
        "    for j in range(0, len(a) - i - 1):\n",
        "      if a[j][1] < a[j + 1][1]:\n",
        "        a[j], a[j + 1] = a[j + 1], a[j]\n",
        "  return a\n",
        "\n",
        "\n",
        "words = ['apple', 'banana', 'orange', 'apple', 'apple', 'banana']\n",
        "cnt = countt(words)\n",
        "a = list(cnt.items())\n",
        "b = sortt(a)\n",
        "print(dict(b))"
      ],
      "metadata": {
        "id": "J10PjdVQUbyq",
        "colab": {
          "base_uri": "https://localhost:8080/"
        },
        "outputId": "aa06903f-cc84-4398-f750-d698ad3ccbb7"
      },
      "execution_count": null,
      "outputs": [
        {
          "output_type": "stream",
          "name": "stdout",
          "text": [
            "{'apple': 3, 'banana': 2, 'orange': 1}\n"
          ]
        }
      ]
    },
    {
      "cell_type": "markdown",
      "source": [
        "# **Задание 6**"
      ],
      "metadata": {
        "id": "d7fDUr2WcY_G"
      }
    },
    {
      "cell_type": "markdown",
      "source": [
        "Дан словарь, содержащий информацию о людях, необходимо:\n",
        "\n",
        "\n",
        "\n",
        "*   Вывести всех людей старше 30 лет\n",
        "*   Вывести список городов и количество людей из словаря проживающих в них\n",
        "*   Вывести список профессий и список людей для каждой профессии\n",
        "\n",
        "**Критерии**\n",
        "\n",
        "Каждый из пунктов необходимо реализовать в виде функции\n",
        "\n"
      ],
      "metadata": {
        "id": "m11qdVhSWBi7"
      }
    },
    {
      "cell_type": "code",
      "source": [
        "people_info = {\n",
        "    \"Alice\": {\"age\": 25, \"city\": \"New York\", \"occupation\": \"Engineer\"},\n",
        "    \"Bob\": {\"age\": 30, \"city\": \"Los Angeles\", \"occupation\": \"Designer\"},\n",
        "    \"Charlie\": {\"age\": 35, \"city\": \"Chicago\", \"occupation\": \"Teacher\"},\n",
        "    \"Diana\": {\"age\": 28, \"city\": \"Miami\", \"occupation\": \"Doctor\"},\n",
        "    \"Ethan\": {\"age\": 40, \"city\": \"Seattle\", \"occupation\": \"Chef\"},\n",
        "    \"Frank\": {\"age\": 32, \"city\": \"Atlanta\", \"occupation\": \"Lawyer\"},\n",
        "    \"Gabriella\": {\"age\": 29, \"city\": \"San Francisco\", \"occupation\": \"Software Engineer\"},\n",
        "    \"Harrison\": {\"age\": 38, \"city\": \"Denver\", \"occupation\": \"Architect\"},\n",
        "    \"Isabella\": {\"age\": 26, \"city\": \"Washington D.C.\", \"occupation\": \"Journalist\"},\n",
        "    \"Julian\": {\"age\": 42, \"city\": \"Miami\", \"occupation\": \"Musician\"},\n",
        "    \"Kate\": {\"age\": 31, \"city\": \"Philadelphia\", \"occupation\": \"Nurse\"},\n",
        "    \"Lucas\": {\"age\": 36, \"city\": \"Nashville\", \"occupation\": \"Businessman\"},\n",
        "    \"Mia\": {\"age\": 27, \"city\": \"Atlanta\", \"occupation\": \"Artist\"},\n",
        "    \"Natalie\": {\"age\": 39, \"city\": \"Portland\", \"occupation\": \"Writer\"},\n",
        "    \"Oliver\": {\"age\": 44, \"city\": \"Minneapolis\", \"occupation\": \"Professor\"},\n",
        "    \"Penelope\": {\"age\": 33, \"city\": \"San Diego\", \"occupation\": \"Marketing Manager\"},\n",
        "    \"Quincy\": {\"age\": 41, \"city\": \"Nashville\", \"occupation\": \"Singer\"},\n",
        "    \"Rachel\": {\"age\": 34, \"city\": \"Cleveland\", \"occupation\": \"Teacher\"},\n",
        "    \"Sophia\": {\"age\": 29, \"city\": \"Nashville\", \"occupation\": \"Engineer\"},\n",
        "    \"Tessa\": {\"age\": 37, \"city\": \"Miami\", \"occupation\": \"Lawyer\"}\n",
        "}\n",
        "\n",
        "def over_30(people_info):\n",
        "    people_30 = []\n",
        "    for k, v in people_info.items():\n",
        "        if v['age'] > 30:\n",
        "            people_30.append(k)\n",
        "    return people_30\n",
        "\n",
        "\n",
        "def city_cnt(people_info):\n",
        "    cities = {}\n",
        "    for k, v in people_info.items():\n",
        "        city = v['city']\n",
        "        if city in cities:\n",
        "            cities[city] += 1\n",
        "        else:\n",
        "            cities[city] = 1\n",
        "    return cities\n",
        "\n",
        "\n",
        "def occupation(people_info):\n",
        "    occup_dict = {}\n",
        "    for k, v in people_info.items():\n",
        "        occupation = v['occupation']\n",
        "        if occupation in occup_dict:\n",
        "            occup_dict[occupation].append(k)\n",
        "        else:\n",
        "            occup_dict[occupation] = [k]\n",
        "    return occup_dict\n",
        "\n",
        "\n",
        "print(over_30(people_info))\n",
        "print(city_cnt(people_info))\n",
        "print(occupation(people_info))"
      ],
      "metadata": {
        "id": "lSNtB39OWtFl",
        "colab": {
          "base_uri": "https://localhost:8080/"
        },
        "outputId": "41705d88-28ec-4169-c738-65ceec6d744d"
      },
      "execution_count": null,
      "outputs": [
        {
          "output_type": "stream",
          "name": "stdout",
          "text": [
            "['Charlie', 'Ethan', 'Frank', 'Harrison', 'Julian', 'Kate', 'Lucas', 'Natalie', 'Oliver', 'Penelope', 'Quincy', 'Rachel', 'Tessa']\n",
            "{'New York': 1, 'Los Angeles': 1, 'Chicago': 1, 'Miami': 3, 'Seattle': 1, 'Atlanta': 2, 'San Francisco': 1, 'Denver': 1, 'Washington D.C.': 1, 'Philadelphia': 1, 'Nashville': 3, 'Portland': 1, 'Minneapolis': 1, 'San Diego': 1, 'Cleveland': 1}\n",
            "{'Engineer': ['Alice', 'Sophia'], 'Designer': ['Bob'], 'Teacher': ['Charlie', 'Rachel'], 'Doctor': ['Diana'], 'Chef': ['Ethan'], 'Lawyer': ['Frank', 'Tessa'], 'Software Engineer': ['Gabriella'], 'Architect': ['Harrison'], 'Journalist': ['Isabella'], 'Musician': ['Julian'], 'Nurse': ['Kate'], 'Businessman': ['Lucas'], 'Artist': ['Mia'], 'Writer': ['Natalie'], 'Professor': ['Oliver'], 'Marketing Manager': ['Penelope'], 'Singer': ['Quincy']}\n"
          ]
        }
      ]
    },
    {
      "cell_type": "markdown",
      "source": [
        "# **Задание 7**"
      ],
      "metadata": {
        "id": "27IuB2YScezw"
      }
    },
    {
      "cell_type": "markdown",
      "source": [
        "Задание: Разработка системы отзывов о предметах\n",
        "\n",
        "Описание: Создать программу на Python для хранения и управления отзывами о предметах учебного курса. Программа должна позволять пользователям добавлять, просматривать и удалять отзывы, а также вычислять средний балл по заданному предмету.\n",
        "\n",
        "**Функционал:**\n",
        "\n",
        "*   Добавление отзыва и оценки:\n",
        "   *   Пользователь может ввести название предмета, оценку (от 1 до 5) и текст отзыва.\n",
        "   *   Отзывы должны храниться в структуре данных (например, словаре), где ключом будет название предмета, а значением - список отзывов (каждый отзыв может хранить оценку и комментарий).\n",
        "*   Просмотр отзывов и оценок:\n",
        "   *   Пользователь может запросить отзывы для указанного предмета.\n",
        "   *   Если для указанного предмета есть отзывы, программа должна отобразить список всех отзывов и соответствующих оценок.\n",
        "*   Удаление отзыва:\n",
        "   *   Пользователь может удалить отзыв по индексу. Необходимо заранее уведомить пользователя о том, какие отзывы доступны для удаления.\n",
        "   *   Программа должна обработать ситуацию, когда индекс введен неправильно.\n",
        "*   Вычисление среднего балла по предмету:\n",
        "   *   Пользователь может ввести название предмета, и программа должна вычислить и вывести средний балл по всем отзывам для этого предмета.\n",
        "   *   Если отзывов нет, программа должна сообщить об этом.\n",
        "\n",
        "\n",
        "**Критерии:**\n",
        "\n",
        "*   Код должен быть оформлен в виде функций\n",
        "*   Необходимо обрабатывать неправильный ввод пользователя\n",
        "*   Должны быть комментарии к функциям\n",
        "*   Присутсвует весь дополнительный функционал\n",
        "\n",
        "\n",
        "\n",
        "**Опционально:**\n",
        "\n",
        "Предлагаю вам добавить свои критерии оценки или вопросы, на которые должен ответить студент, чтобы оценить пару\n",
        "\n",
        "\n"
      ],
      "metadata": {
        "id": "Fd95-S9cYhct"
      }
    },
    {
      "cell_type": "code",
      "source": [
        "def add(reviews, subject, sr, comment):\n",
        "    # добавление нового отзыва\n",
        "    if subject not in reviews:\n",
        "        reviews[subject] = []\n",
        "    reviews[subject].append({'sr': sr, 'comment': comment})\n",
        "\n",
        "\n",
        "def view(reviews, subject):\n",
        "    # просмотр отзывов о предмете\n",
        "    if subject in reviews:\n",
        "        for i in range(len(reviews[subject])):\n",
        "            print('Отзыв', i + 1)\n",
        "            print('Оценка:', reviews[subject][i]['sr'])\n",
        "            print('Комментарий:', reviews[subject][i]['comment'])\n",
        "    else:\n",
        "        print('Отзывов по предмету', subject, 'нет.')\n",
        "\n",
        "\n",
        "def delete(reviews, subject, index):\n",
        "    # удаление отзыва о предмете\n",
        "    if subject in reviews and 0 <= index < len(reviews[subject]):\n",
        "        del reviews[subject][index]\n",
        "        print('Отзыв удален')\n",
        "    else:\n",
        "        print('Некорректный номер отзыва')\n",
        "\n",
        "\n",
        "def average(reviews, subject):\n",
        "    # расчет среднего балла предмета по оценкам пользователей\n",
        "    if subject in reviews:\n",
        "        total_score = sum(review['sr'] for review in reviews[subject])\n",
        "        count = len(reviews[subject])\n",
        "        if count > 0:  # Проверка на деление на ноль\n",
        "            avg_score = total_score / count\n",
        "            print('Средняя оценка по предмету', subject, ':', avg_score)\n",
        "        else:\n",
        "            print('Отзывов по предмету', subject, 'нет')\n",
        "    else:\n",
        "        print('Отзывов по предмету', subject, 'нет')\n",
        "\n",
        "\n",
        "reviews = {}\n",
        "\n",
        "while True:\n",
        "    print('\\n1. Добавить отзыв')\n",
        "    print('2. Посмотреть отзывы')\n",
        "    print('3. Удалить отзыв')\n",
        "    print('4. Вычислить среднюю оценку')\n",
        "    print('5. Выход')\n",
        "\n",
        "    choice = input(\"Ваш выбор: \")\n",
        "\n",
        "    if choice == '1':\n",
        "        subject = input('Введите название предмета: ')\n",
        "        score = int(input('Введите оценку (от 1 до 5): '))\n",
        "        comment = input('Введите комментарий: ')\n",
        "        add(reviews, subject, score, comment)\n",
        "    elif choice == '2':\n",
        "        subject = input('Введите название предмета: ')\n",
        "        view(reviews, subject)\n",
        "    elif choice == '3':\n",
        "        subject = input('Введите название предмета: ')\n",
        "        view(reviews, subject)\n",
        "        index = int(input('Введите индекс отзыва для удаления: ')) - 1\n",
        "        delete(reviews, subject, index)\n",
        "    elif choice == '4':\n",
        "        subject = input('Введите название предмета: ')\n",
        "        average(reviews, subject)\n",
        "    elif choice == '5':\n",
        "        print('Работа завершена')\n",
        "        break\n",
        "    else:\n",
        "        print('Ошибка')"
      ],
      "metadata": {
        "id": "kzucJrCUa0o7",
        "colab": {
          "base_uri": "https://localhost:8080/"
        },
        "outputId": "0d28a924-ad27-49fb-ab33-720bc51e8b67"
      },
      "execution_count": null,
      "outputs": [
        {
          "output_type": "stream",
          "name": "stdout",
          "text": [
            "\n",
            "1. Добавить отзыв\n",
            "2. Посмотреть отзывы\n",
            "3. Удалить отзыв\n",
            "4. Вычислить среднюю оценку\n",
            "5. Выход\n",
            "Ваш выбор: 1\n",
            "Введите название предмета: Физика\n",
            "Введите оценку (от 1 до 5): 5\n",
            "Введите комментарий: Всё было понятно!\n",
            "\n",
            "1. Добавить отзыв\n",
            "2. Посмотреть отзывы\n",
            "3. Удалить отзыв\n",
            "4. Вычислить среднюю оценку\n",
            "5. Выход\n",
            "Ваш выбор: 1\n",
            "Введите название предмета: Физика\n",
            "Введите оценку (от 1 до 5): 3\n",
            "Введите комментарий: Не очень понял материал(((\n",
            "\n",
            "1. Добавить отзыв\n",
            "2. Посмотреть отзывы\n",
            "3. Удалить отзыв\n",
            "4. Вычислить среднюю оценку\n",
            "5. Выход\n",
            "Ваш выбор: 1\n",
            "Введите название предмета: История\n",
            "Введите оценку (от 1 до 5): 5\n",
            "Введите комментарий: Всё классно\n",
            "\n",
            "1. Добавить отзыв\n",
            "2. Посмотреть отзывы\n",
            "3. Удалить отзыв\n",
            "4. Вычислить среднюю оценку\n",
            "5. Выход\n",
            "Ваш выбор: 3\n",
            "Введите название предмета: История\n",
            "Отзыв 1\n",
            "Оценка: 5\n",
            "Комментарий: Всё классно\n",
            "Введите индекс отзыва для удаления: 1\n",
            "Отзыв удален\n",
            "\n",
            "1. Добавить отзыв\n",
            "2. Посмотреть отзывы\n",
            "3. Удалить отзыв\n",
            "4. Вычислить среднюю оценку\n",
            "5. Выход\n",
            "Ваш выбор: 4\n",
            "Введите название предмета: Физика\n",
            "Средняя оценка по предмету Физика : 4.0\n",
            "\n",
            "1. Добавить отзыв\n",
            "2. Посмотреть отзывы\n",
            "3. Удалить отзыв\n",
            "4. Вычислить среднюю оценку\n",
            "5. Выход\n",
            "Ваш выбор: 5\n",
            "Работа завершена\n"
          ]
        }
      ]
    }
  ]
}